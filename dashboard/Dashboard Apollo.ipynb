{
 "cells": [
  {
   "cell_type": "code",
   "execution_count": 1,
   "id": "da38cd81",
   "metadata": {},
   "outputs": [
    {
     "name": "stdout",
     "output_type": "stream",
     "text": [
      "Collecting dash\n",
      "  Obtaining dependency information for dash from https://files.pythonhosted.org/packages/00/69/d0ee9c6524678e98d336464d5c898182794c6b2ba1e5507bc7010a126ce2/dash-2.14.1-py3-none-any.whl.metadata\n",
      "  Downloading dash-2.14.1-py3-none-any.whl.metadata (11 kB)\n",
      "Requirement already satisfied: Flask<3.1,>=1.0.4 in c:\\users\\dpf\\anaconda3\\lib\\site-packages (from dash) (2.2.2)\n",
      "Requirement already satisfied: Werkzeug<3.1 in c:\\users\\dpf\\anaconda3\\lib\\site-packages (from dash) (2.2.3)\n",
      "Requirement already satisfied: plotly>=5.0.0 in c:\\users\\dpf\\anaconda3\\lib\\site-packages (from dash) (5.9.0)\n",
      "Collecting dash-html-components==2.0.0 (from dash)\n",
      "  Downloading dash_html_components-2.0.0-py3-none-any.whl (4.1 kB)\n",
      "Collecting dash-core-components==2.0.0 (from dash)\n",
      "  Downloading dash_core_components-2.0.0-py3-none-any.whl (3.8 kB)\n",
      "Collecting dash-table==5.0.0 (from dash)\n",
      "  Downloading dash_table-5.0.0-py3-none-any.whl (3.9 kB)\n",
      "Requirement already satisfied: typing-extensions>=4.1.1 in c:\\users\\dpf\\anaconda3\\lib\\site-packages (from dash) (4.7.1)\n",
      "Requirement already satisfied: requests in c:\\users\\dpf\\anaconda3\\lib\\site-packages (from dash) (2.31.0)\n",
      "Collecting retrying (from dash)\n",
      "  Downloading retrying-1.3.4-py3-none-any.whl (11 kB)\n",
      "Collecting ansi2html (from dash)\n",
      "  Downloading ansi2html-1.8.0-py3-none-any.whl (16 kB)\n",
      "Requirement already satisfied: nest-asyncio in c:\\users\\dpf\\anaconda3\\lib\\site-packages (from dash) (1.5.6)\n",
      "Requirement already satisfied: setuptools in c:\\users\\dpf\\anaconda3\\lib\\site-packages (from dash) (68.0.0)\n",
      "Requirement already satisfied: importlib-metadata in c:\\users\\dpf\\anaconda3\\lib\\site-packages (from dash) (6.0.0)\n",
      "Requirement already satisfied: Jinja2>=3.0 in c:\\users\\dpf\\anaconda3\\lib\\site-packages (from Flask<3.1,>=1.0.4->dash) (3.1.2)\n",
      "Requirement already satisfied: itsdangerous>=2.0 in c:\\users\\dpf\\anaconda3\\lib\\site-packages (from Flask<3.1,>=1.0.4->dash) (2.0.1)\n",
      "Requirement already satisfied: click>=8.0 in c:\\users\\dpf\\anaconda3\\lib\\site-packages (from Flask<3.1,>=1.0.4->dash) (8.0.4)\n",
      "Requirement already satisfied: tenacity>=6.2.0 in c:\\users\\dpf\\anaconda3\\lib\\site-packages (from plotly>=5.0.0->dash) (8.2.2)\n",
      "Requirement already satisfied: MarkupSafe>=2.1.1 in c:\\users\\dpf\\anaconda3\\lib\\site-packages (from Werkzeug<3.1->dash) (2.1.1)\n",
      "Requirement already satisfied: zipp>=0.5 in c:\\users\\dpf\\anaconda3\\lib\\site-packages (from importlib-metadata->dash) (3.11.0)\n",
      "Requirement already satisfied: charset-normalizer<4,>=2 in c:\\users\\dpf\\anaconda3\\lib\\site-packages (from requests->dash) (2.0.4)\n",
      "Requirement already satisfied: idna<4,>=2.5 in c:\\users\\dpf\\anaconda3\\lib\\site-packages (from requests->dash) (3.4)\n",
      "Requirement already satisfied: urllib3<3,>=1.21.1 in c:\\users\\dpf\\anaconda3\\lib\\site-packages (from requests->dash) (1.26.16)\n",
      "Requirement already satisfied: certifi>=2017.4.17 in c:\\users\\dpf\\anaconda3\\lib\\site-packages (from requests->dash) (2023.7.22)\n",
      "Requirement already satisfied: six>=1.7.0 in c:\\users\\dpf\\anaconda3\\lib\\site-packages (from retrying->dash) (1.16.0)\n",
      "Requirement already satisfied: colorama in c:\\users\\dpf\\anaconda3\\lib\\site-packages (from click>=8.0->Flask<3.1,>=1.0.4->dash) (0.4.6)\n",
      "Downloading dash-2.14.1-py3-none-any.whl (10.4 MB)\n",
      "   ---------------------------------------- 0.0/10.4 MB ? eta -:--:--\n",
      "    --------------------------------------- 0.2/10.4 MB 3.9 MB/s eta 0:00:03\n",
      "   -- ------------------------------------- 0.6/10.4 MB 7.3 MB/s eta 0:00:02\n",
      "   ------ --------------------------------- 1.7/10.4 MB 13.4 MB/s eta 0:00:01\n",
      "   ----------- ---------------------------- 3.1/10.4 MB 18.0 MB/s eta 0:00:01\n",
      "   ----------------- ---------------------- 4.5/10.4 MB 22.2 MB/s eta 0:00:01\n",
      "   ------------------------ --------------- 6.3/10.4 MB 25.0 MB/s eta 0:00:01\n",
      "   ----------------------------- ---------- 7.6/10.4 MB 25.7 MB/s eta 0:00:01\n",
      "   ----------------------------------- ---- 9.3/10.4 MB 27.0 MB/s eta 0:00:01\n",
      "   ---------------------------------------  10.4/10.4 MB 31.2 MB/s eta 0:00:01\n",
      "   ---------------------------------------- 10.4/10.4 MB 26.2 MB/s eta 0:00:00\n",
      "Installing collected packages: dash-table, dash-html-components, dash-core-components, retrying, ansi2html, dash\n",
      "Successfully installed ansi2html-1.8.0 dash-2.14.1 dash-core-components-2.0.0 dash-html-components-2.0.0 dash-table-5.0.0 retrying-1.3.4\n",
      "Note: you may need to restart the kernel to use updated packages.\n"
     ]
    }
   ],
   "source": [
    "pip install dash"
   ]
  },
  {
   "cell_type": "code",
   "execution_count": 2,
   "id": "e056ec4f",
   "metadata": {},
   "outputs": [],
   "source": [
    "import dash\n",
    "import plotly as pl\n",
    "import pandas as pd\n",
    "import mysql.connector"
   ]
  },
  {
   "cell_type": "code",
   "execution_count": 3,
   "id": "391d5ea7",
   "metadata": {},
   "outputs": [],
   "source": [
    "def criar_conexao_servidor(usuario, senha, host, nome_bd):\n",
    "    conexao = None\n",
    "    try:\n",
    "        conexao = mysql.connector.connect(\n",
    "            host=host,\n",
    "            user=usuario,\n",
    "            passwd=senha,\n",
    "            database=nome_bd\n",
    "        )\n",
    "        print(\"MySQL DB conectado com sucesso\")\n",
    "    except Error as err:\n",
    "        print(f\"Erro: '{err}'\")\n",
    "    \n",
    "    return conexao"
   ]
  },
  {
   "cell_type": "code",
   "execution_count": 4,
   "id": "9be9e922",
   "metadata": {},
   "outputs": [
    {
     "name": "stdout",
     "output_type": "stream",
     "text": [
      "MySQL DB conectado com sucesso\n"
     ]
    }
   ],
   "source": [
    "conexao = criar_conexao_servidor('root', '', 'localhost', 'apollo')"
   ]
  },
  {
   "cell_type": "code",
   "execution_count": 5,
   "id": "7d90ce26",
   "metadata": {},
   "outputs": [],
   "source": [
    "cursor = conexao.cursor()"
   ]
  },
  {
   "cell_type": "code",
   "execution_count": 6,
   "id": "73283794",
   "metadata": {},
   "outputs": [
    {
     "data": {
      "text/plain": [
       "[(7, 120.0), (8, 240.0), (6, 180.0), (8, 220.0), (7, 350.0)]"
      ]
     },
     "execution_count": 6,
     "metadata": {},
     "output_type": "execute_result"
    }
   ],
   "source": [
    "#CONSULTA TOTAL DAS PRESTAÇOES JUNTO AO MÊS\n",
    "query_faturamento_mes = \"\"\"\n",
    "SELECT MONTH(DiaData) AS mes, (Adicional + SUM(preco)) AS total \n",
    "FROM prestacao, prestacao_servico, prestacao_data, servico, data \n",
    "WHERE prestacao.IDPrestacao = prestacao_servico.IDPrestacao \n",
    "AND prestacao.IDPrestacao = prestacao_data.IDPrestacao \n",
    "AND prestacao_servico.IDServico = servico.id \n",
    "AND prestacao_data.IDData = data.IDData \n",
    "GROUP BY prestacao.IDPrestacao;\n",
    "\"\"\"\n",
    "\n",
    "cursor.execute(query_faturamento_mes)\n",
    "resultado_query = cursor.fetchall()\n",
    "resultado_query"
   ]
  },
  {
   "cell_type": "code",
   "execution_count": 7,
   "id": "5cd0c38d",
   "metadata": {},
   "outputs": [
    {
     "data": {
      "text/plain": [
       "[(6, 180.0), (7, 470.0), (8, 460.0)]"
      ]
     },
     "execution_count": 7,
     "metadata": {},
     "output_type": "execute_result"
    }
   ],
   "source": [
    "#CONSULTA TOTAL DE PRESTAÇÕES POR MÊS\n",
    "query_valor_arrecadado = \"\"\"\n",
    "SELECT \n",
    "    mes,\n",
    "    SUM(total) AS Valor_Arrecadado\n",
    "FROM (\n",
    "    SELECT \n",
    "        MONTH(DiaData) AS mes, \n",
    "        prestacao.IDPrestacao,\n",
    "        (Adicional + COALESCE(SUM(servico.preco), 0)) AS total\n",
    "    FROM \n",
    "        prestacao\n",
    "    JOIN \n",
    "        prestacao_servico ON prestacao.IDPrestacao = prestacao_servico.IDPrestacao\n",
    "    JOIN \n",
    "        servico ON prestacao_servico.IDServico = servico.id\n",
    "    JOIN \n",
    "        prestacao_data ON prestacao.IDPrestacao = prestacao_data.IDPrestacao\n",
    "    JOIN \n",
    "        data ON prestacao_data.IDData = data.IDData\n",
    "    GROUP BY \n",
    "        mes, prestacao.IDPrestacao\n",
    ") AS subquery\n",
    "GROUP BY \n",
    "    mes;\n",
    "\"\"\"\n",
    "cursor.execute(query_valor_arrecadado)\n",
    "resultado_query = cursor.fetchall()\n",
    "resultado_query"
   ]
  },
  {
   "cell_type": "code",
   "execution_count": null,
   "id": "ba59994e",
   "metadata": {},
   "outputs": [],
   "source": [
    "#FATURAMENTO LÍQUIDO POR MÊS (SOMA_VALOR_SERVIÇOS - (CUSTOS + DIARIAS))"
   ]
  },
  {
   "cell_type": "code",
   "execution_count": 13,
   "id": "38923f4f",
   "metadata": {},
   "outputs": [
    {
     "data": {
      "text/plain": [
       "[(1, 6), (2, 7), (2, 8)]"
      ]
     },
     "execution_count": 13,
     "metadata": {},
     "output_type": "execute_result"
    }
   ],
   "source": [
    "#TOTAL DE PRESTAÇÕES REALIZADAS POR MÊS\n",
    "query_prestacoes_mes = \"\"\"\n",
    "SELECT COUNT(prestacao.IDPrestacao) as qtd_prestacoes, MONTH(DiaData) as mes\n",
    "FROM prestacao, prestacao_data, data\n",
    "WHERE prestacao.IDPrestacao = prestacao_data.IDData \n",
    "AND prestacao_data.IDData = data.IDData\n",
    "GROUP BY mes;\n",
    "\"\"\"\n",
    "cursor.execute(query_prestacoes_mes)\n",
    "resultado_query = cursor.fetchall()\n",
    "resultado_query"
   ]
  },
  {
   "cell_type": "code",
   "execution_count": 15,
   "id": "a571a422",
   "metadata": {},
   "outputs": [
    {
     "data": {
      "text/plain": [
       "[(2, 'Instalação'), (2, 'Manutenção Elétrica'), (4, 'Limpeza')]"
      ]
     },
     "execution_count": 15,
     "metadata": {},
     "output_type": "execute_result"
    }
   ],
   "source": [
    "#QUANTIDADE DE SERVIÇOS POR PRESTAÇÃO\n",
    "query_servicos_qtd=\"\"\"\n",
    "SELECT COUNT(prestacao_servico.IDServico) as qtd, servico.nome\n",
    "FROM prestacao, prestacao_servico, servico\n",
    "WHERE prestacao.IDPrestacao = prestacao_servico.IDPrestacao\n",
    "AND prestacao_servico.IDServico = servico.id\n",
    "GROUP BY servico.nome\n",
    "ORDER BY qtd;\n",
    "\"\"\"\n",
    "cursor.execute(query_servicos_qtd)\n",
    "resultado_query = cursor.fetchall()\n",
    "resultado_query"
   ]
  },
  {
   "cell_type": "code",
   "execution_count": 11,
   "id": "3e3eaa79",
   "metadata": {},
   "outputs": [
    {
     "data": {
      "text/plain": [
       "[(21,)]"
      ]
     },
     "execution_count": 11,
     "metadata": {},
     "output_type": "execute_result"
    }
   ],
   "source": [
    "#TOTAL DE FUNCIONARIOS\n",
    "query_total_funcionarios = \"\"\"\n",
    "SELECT COUNT(*) FROM funcionario\n",
    "\"\"\"\n",
    "cursor.execute(query_total_funcionarios)\n",
    "resultado_query = cursor.fetchall()\n",
    "resultado_query"
   ]
  },
  {
   "cell_type": "code",
   "execution_count": 16,
   "id": "eead43f5",
   "metadata": {},
   "outputs": [
    {
     "data": {
      "text/plain": [
       "[(6, 135.0), (7, 250.0), (8, 370.0)]"
      ]
     },
     "execution_count": 16,
     "metadata": {},
     "output_type": "execute_result"
    }
   ],
   "source": [
    "#GASTOS TOTAIS COM FUNCIONÁRIOS\n",
    "query_gastos_funcionarios=\"\"\"\n",
    "SELECT \n",
    "    MONTH(data.DiaData) AS mes,\n",
    "    SUM(soma_diarias) as gasto_total_diaria\n",
    "FROM (\n",
    "    SELECT \n",
    "        prestacao.IDPrestacao, \n",
    "        SUM(funcionario.diaria) as soma_diarias\n",
    "    FROM \n",
    "        prestacao\n",
    "    JOIN \n",
    "        prestacao_funcionario ON prestacao.IDPrestacao = prestacao_funcionario.IDPrestacao\n",
    "    JOIN \n",
    "        funcionario ON prestacao_funcionario.IDFuncionario = funcionario.id\n",
    "    GROUP BY \n",
    "        prestacao.IDPrestacao\n",
    ") as somas_diarias_prestacao\n",
    "JOIN prestacao_data ON somas_diarias_prestacao.IDPrestacao = prestacao_data.IDPrestacao\n",
    "JOIN data ON prestacao_data.IDData = data.IDData\n",
    "GROUP BY \n",
    "    mes;\n",
    "\"\"\"\n",
    "cursor.execute(query_gastos_funcionarios)\n",
    "resultado_query = cursor.fetchall()\n",
    "resultado_query"
   ]
  }
 ],
 "metadata": {
  "kernelspec": {
   "display_name": "Python 3 (ipykernel)",
   "language": "python",
   "name": "python3"
  },
  "language_info": {
   "codemirror_mode": {
    "name": "ipython",
    "version": 3
   },
   "file_extension": ".py",
   "mimetype": "text/x-python",
   "name": "python",
   "nbconvert_exporter": "python",
   "pygments_lexer": "ipython3",
   "version": "3.11.5"
  }
 },
 "nbformat": 4,
 "nbformat_minor": 5
}
